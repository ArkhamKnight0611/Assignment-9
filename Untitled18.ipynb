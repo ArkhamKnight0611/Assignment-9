{
  "nbformat": 4,
  "nbformat_minor": 0,
  "metadata": {
    "colab": {
      "provenance": []
    },
    "kernelspec": {
      "name": "python3",
      "display_name": "Python 3"
    },
    "language_info": {
      "name": "python"
    }
  },
  "cells": [
    {
      "cell_type": "code",
      "execution_count": 1,
      "metadata": {
        "id": "nlEG1GXSWOti"
      },
      "outputs": [],
      "source": [
        "# Multithreading is defined as the ability of a processor to execute multiple threads concurrently.\n",
        "# In a simple, single-core CPU, it is achieved using frequent switching between threads. This is termed context switching.\n",
        "# In Python, the threading module provides a very simple and intuitive API for spawning multiple threads in a program."
      ]
    },
    {
      "cell_type": "code",
      "source": [
        "# Threading module is used for creating, controlling and managing threads in python.\n",
        "# threading.activeCount() − Returns the number of thread objects that are active.\n",
        "# threading.currentThread() − Returns the number of thread objects in the caller's thread control.\n",
        "# threading.enumerate() − Returns a list of all thread objects that are currently active."
      ],
      "metadata": {
        "id": "YwU9-Yb1WhbX"
      },
      "execution_count": 2,
      "outputs": []
    },
    {
      "cell_type": "code",
      "source": [
        "# The .run() method executes any target function belonging to a given thread object that is now active.\n",
        "# It normally executes in the background after the .start() method is invoked.\n",
        "\n",
        "# The join() method takes all items in an iterable and joins them into one string.\n",
        "# A string must be specified as the separator.\n",
        "\n",
        "# The .is_alive() method returns True if the thread is still running and False, otherwise."
      ],
      "metadata": {
        "id": "_oqjrtvHXOyo"
      },
      "execution_count": 7,
      "outputs": []
    },
    {
      "cell_type": "code",
      "source": [
        "myDict = {\"name\": \"John\", \"country\": \"Norway\"}\n",
        "mySeparator = \"TEST\"\n",
        "x = mySeparator.join(myDict)\n",
        "print(x)\n",
        "\n",
        "\n",
        "myTuple = (\"John\", \"Peter\", \"Vicky\")\n",
        "x = \"#\".join(myTuple)\n",
        "print(x)"
      ],
      "metadata": {
        "colab": {
          "base_uri": "https://localhost:8080/"
        },
        "id": "EzxUpPeaYozN",
        "outputId": "23fe5306-5b1b-44ae-b837-bf093822b51a"
      },
      "execution_count": 6,
      "outputs": [
        {
          "output_type": "stream",
          "name": "stdout",
          "text": [
            "nameTESTcountry\n",
            "John#Peter#Vicky\n"
          ]
        }
      ]
    },
    {
      "cell_type": "code",
      "source": [
        "import threading\n",
        "\n",
        "def countdown(count):\n",
        "  print(f'Thread alive? {thread.is_alive()}')\n",
        "  print(\"Counting down...\")\n",
        "  while count > 0:\n",
        "    print(f'{count} left')\n",
        "    count -= 1\n",
        "  print(\"We made it!\")\n",
        "\n",
        "thread = threading.Thread(target=countdown, args=(5,))\n",
        "\n",
        "thread.start()\n",
        "thread.join()\n",
        "\n",
        "print(f'Thread still alive? {thread.is_alive()}')\n",
        "print(\"End of program.\")\n"
      ],
      "metadata": {
        "colab": {
          "base_uri": "https://localhost:8080/"
        },
        "id": "75-yI_c7YpUT",
        "outputId": "168cb9f2-159b-42af-b09e-7c8887a93cbc"
      },
      "execution_count": 8,
      "outputs": [
        {
          "output_type": "stream",
          "name": "stdout",
          "text": [
            "Thread alive? True\n",
            "Counting down...\n",
            "5 left\n",
            "4 left\n",
            "3 left\n",
            "2 left\n",
            "1 left\n",
            "We made it!\n",
            "Thread still alive? False\n",
            "End of program.\n"
          ]
        }
      ]
    },
    {
      "cell_type": "code",
      "source": [
        "import threading\n",
        "import time\n",
        "\n",
        "def print_cube(num):\n",
        "    # function to print cube of given num\n",
        "    print(\"Cube: {}\" .format(num * num * num))\n",
        "\n",
        "def print_square(num):\n",
        "    # function to print square of given num\n",
        "    print(\"Square: {}\" .format(num * num))\n",
        "\n",
        "thread1 = [threading.Thread(target=print_cube , args  = (i,)) for i in range(10)]\n",
        "thread2 = [threading.Thread(target=print_square , args  = (i,)) for i in range(10)]\n",
        "\n",
        "for t in thread1:\n",
        "    t.start()\n",
        "    time.sleep(1)\n",
        "\n",
        "for t in thread2:\n",
        "    t.start()\n",
        "    time.sleep(1)\n"
      ],
      "metadata": {
        "colab": {
          "base_uri": "https://localhost:8080/"
        },
        "id": "P8EzDIkrbNRC",
        "outputId": "cccff63f-975c-4229-a04e-1c43bae2c4a1"
      },
      "execution_count": 19,
      "outputs": [
        {
          "output_type": "stream",
          "name": "stdout",
          "text": [
            "Cube: 0\n",
            "Cube: 1\n",
            "Cube: 8\n",
            "Cube: 27\n",
            "Cube: 64\n",
            "Cube: 125\n",
            "Cube: 216\n",
            "Cube: 343\n",
            "Cube: 512\n",
            "Cube: 729\n",
            "Square: 0\n",
            "Square: 1\n",
            "Square: 4\n",
            "Square: 9\n",
            "Square: 16\n",
            "Square: 25\n",
            "Square: 36\n",
            "Square: 49\n",
            "Square: 64\n",
            "Square: 81\n"
          ]
        }
      ]
    },
    {
      "cell_type": "code",
      "source": [
        "# Advantages:\n",
        "\n",
        "#Improved performance: Multithreading can help increase the overall performance of an application, especially on systems with multiple processors or cores. It allows multiple tasks to run concurrently, utilizing the available CPU resources more efficiently.\n",
        "#Responsiveness: In a single-threaded environment, if a long-running task blocks the main thread, the entire application becomes unresponsive. Multithreading can prevent this issue by running such tasks in separate threads, ensuring the application remains responsive.\n",
        "#Better resource utilization: Multithreading allows better utilization of system resources by keeping the CPU busy while waiting for I/O operations or other tasks to complete.\n",
        "#Simplified modeling: Some problems can be more naturally modeled using multiple threads. This makes the program easier to design, understand, and maintain.\n",
        "#Parallelism: Multithreading enables parallelism, which can lead to significant performance improvements in applications that can be divided into smaller, independent tasks.\n",
        "\n",
        "#Disadvantages:\n",
        "\n",
        "#Complexity: Multithreading adds complexity to the program, making it more difficult to design, implement, and debug. Developers need to be aware of synchronization, deadlocks, race conditions, and other concurrency-related issues.\n",
        "#Synchronization overhead: To avoid data corruption and maintain consistency, developers must synchronize access to shared resources, which can result in additional overhead and reduced performance.\n",
        "#Context switching: Context switching between threads consumes CPU time and resources, which can lead to performance degradation if not managed efficiently.\n",
        "#Hard to predict behavior: Due to the concurrent nature of multithreading, the behavior of the program can be hard to predict and reproduce, especially when it comes to debugging.\n",
        "#Limited by hardware: The performance benefits of multithreading are limited by the number of available cores or processors in the system. In some cases, excessive use of threads can lead to performance degradation instead of improvement."
      ],
      "metadata": {
        "id": "eUkJFYXfckFq"
      },
      "execution_count": 21,
      "outputs": []
    },
    {
      "cell_type": "code",
      "source": [
        "# A race condition occurs when two threads use the same variable at a given time.\n",
        "# Deadlock exists when two threads seek one lock simultaneously.\n",
        "# This situation will stop both threads from processing or executing the functions."
      ],
      "metadata": {
        "id": "ODTTbY1Ye0yB"
      },
      "execution_count": 22,
      "outputs": []
    }
  ]
}